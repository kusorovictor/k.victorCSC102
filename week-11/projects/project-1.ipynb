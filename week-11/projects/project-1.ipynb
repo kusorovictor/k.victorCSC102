{
  "cells": [
    {
      "cell_type": "markdown",
      "metadata": {},
      "source": [
        "# Python - PostgreSQL"
      ]
    },
    {
      "cell_type": "markdown",
      "metadata": {},
      "source": [
        "PostgreSQL can be integrated with Python using the psycopg2 module.\n",
        "psycopg2 is a PostgreSQL database adapter for the Python programming language.\n",
        "psycopg2 was written with the aim of being very small, fast, and stable as a rock.\n",
        "You do not need to install this module separately because it is shipped by default with Python version 2.5.x onwards."
      ]
    },
    {
      "cell_type": "markdown",
      "metadata": {},
      "source": [
        "# Python psycopg2 Module APIs\n",
        "\n",
        "If you do not have it installed on your machine, you can use the following command to install it:"
      ]
    },
    {
      "cell_type": "code",
      "execution_count": null,
      "metadata": {},
      "outputs": [],
      "source": [
        "pip install psycopg2"
      ]
    },
    {
      "cell_type": "markdown",
      "metadata": {},
      "source": [
        "If the above command causes an error, try the following command:"
      ]
    },
    {
      "cell_type": "code",
      "execution_count": null,
      "metadata": {},
      "outputs": [],
      "source": [
        "pip install psycopg2-binary"
      ]
    },
    {
      "cell_type": "markdown",
      "metadata": {},
      "source": [
        "The following are important psycopg2 module routines:\n",
        "\n",
        "| APIs | Description |\n",
        "|------|-------------|\n",
        "| psycopg2.connect() | This API opens a connection to the PostgreSQL database. |\n",
        "| connection.cursor() | This routine creates a cursor which will be used throughout your database programming with Python. |\n",
        "| cursor.execute() | This routine executes an SQL statement. The SQL statement may be parameterized (i.e., placeholders instead of SQL literals). |\n",
        "| connection.close() | This method closes the database connection. |\n",
        "| cursor.fetchone() | This method fetches the next row of a query result set, returning a single sequence, or None when no more data is available. |\n",
        "| cursor.fetchall() | This routine fetches all (remaining) rows of a query result, returning a list. An empty list is returned when no rows are available. |"
      ]
    },
    {
      "cell_type": "markdown",
      "metadata": {},
      "source": [
        "# Connecting to a Database"
      ]
    },
    {
      "cell_type": "code",
      "execution_count": 3,
      "metadata": {},
      "outputs": [
        {
          "name": "stdout",
          "output_type": "stream",
          "text": [
            "Connection to PostgreSQL DB successful\n",
            "PostgreSQL database version: ('PostgreSQL 17.2 on x86_64-windows, compiled by msvc-19.42.34435, 64-bit',)\n"
          ]
        }
      ],
      "source": [
        "import psycopg2\n",
        "\n",
        "# Database connection parameters\n",
        "host = \"localhost\"\n",
        "port = \"5432\"\n",
        "dbname = \"test_db\"\n",
        "user = \"postgres\"\n",
        "password = \"password\"\n",
        "\n",
        "# Establish the connection\n",
        "try:\n",
        "    connection = psycopg2.connect(\n",
        "        host=host,\n",
        "        port=port,\n",
        "        dbname=dbname,\n",
        "        user=user,\n",
        "        password=password\n",
        "    )\n",
        "    print(\"Connection to PostgreSQL DB successful\")\n",
        "\n",
        "    # Create a cursor object\n",
        "    cursor = connection.cursor()\n",
        "\n",
        "    # Execute a SQL query\n",
        "    cursor.execute(\"SELECT version();\")\n",
        "    \n",
        "    # Fetch and print the result of the query\n",
        "    db_version = cursor.fetchone()\n",
        "    print(f\"PostgreSQL database version: {db_version}\")\n",
        "\n",
        "    # Close the cursor and connection\n",
        "    cursor.close()\n",
        "    connection.close()\n",
        "\n",
        "except Exception as error:\n",
        "    print(f\"Error connecting to PostgreSQL DB: {error}\")"
      ]
    },
    {
      "cell_type": "markdown",
      "metadata": {},
      "source": [
        "# Selecting from an Existing Database"
      ]
    },
    {
      "cell_type": "code",
      "execution_count": 1,
      "metadata": {},
      "outputs": [
        {
          "name": "stdout",
          "output_type": "stream",
          "text": [
            "Connection to PostgreSQL DB successful\n",
            "Error connecting to PostgreSQL DB: relation \"company\" does not exist\n",
            "LINE 1: SELECT * FROM company;\n",
            "                      ^\n",
            "\n"
          ]
        }
      ],
      "source": [
        "import psycopg2\n",
        "\n",
        "# Database connection parameters\n",
        "host = \"localhost\"\n",
        "port = \"5432\"\n",
        "dbname = \"test_db\"\n",
        "user = \"postgres\"\n",
        "password = \"password\"\n",
        "\n",
        "# Establish the connection\n",
        "try:\n",
        "    connection = psycopg2.connect(\n",
        "        host=host,\n",
        "        port=port,\n",
        "        dbname=dbname,\n",
        "        user=user,\n",
        "        password=password\n",
        "    )\n",
        "    print(\"Connection to PostgreSQL DB successful\")\n",
        "\n",
        "    # Create a cursor object\n",
        "    cursor = connection.cursor()\n",
        "\n",
        "    # Define the SQL SELECT query\n",
        "    select_query = \"SELECT * FROM company;\"\n",
        "\n",
        "    # Execute the query\n",
        "    cursor.execute(select_query)\n",
        "\n",
        "    # Fetch all rows from the executed query\n",
        "    data = cursor.fetchall()\n",
        "\n",
        "    print(\"column1 | column2\")\n",
        "    print(\"------------------------\")\n",
        "    \n",
        "    # Iterate through the rows and print them\n",
        "    for row in data:\n",
        "        print(f\"{row[0]} | {row[1]}\")\n",
        "\n",
        "    # Close the cursor and connection\n",
        "    cursor.close()\n",
        "    connection.close()\n",
        "\n",
        "except Exception as error:\n",
        "    print(f\"Error connecting to PostgreSQL DB: {error}\")"
      ]
    },
    {
      "cell_type": "markdown",
      "metadata": {},
      "source": [
        "# Create a New Database"
      ]
    },
    {
      "cell_type": "code",
      "execution_count": 2,
      "metadata": {},
      "outputs": [
        {
          "name": "stdout",
          "output_type": "stream",
          "text": [
            "Connection to PostgreSQL server successful\n",
            "Database 'cos102_db' created successfully\n"
          ]
        }
      ],
      "source": [
        "import psycopg2\n",
        "from psycopg2 import sql\n",
        "\n",
        "# Parameters to connect to the existing PostgreSQL server\n",
        "host = \"localhost\"\n",
        "port = \"5432\"\n",
        "dbname = \"test_db\"\n",
        "user = \"postgres\"\n",
        "password = \"password\"\n",
        "\n",
        "# Name of the new database to be created\n",
        "new_dbname = \"cos102_db\"\n",
        "\n",
        "try:\n",
        "    # Connect to the PostgreSQL server\n",
        "    connection = psycopg2.connect(\n",
        "        host=host,\n",
        "        port=port,\n",
        "        dbname=dbname,\n",
        "        user=user,\n",
        "        password=password\n",
        "    )\n",
        "    connection.autocommit = True # Enable autocommit mode\n",
        "    print(\"Connection to PostgreSQL server successful\")\n",
        "\n",
        "    # Create a cursor object\n",
        "    cursor = connection.cursor()\n",
        "\n",
        "    # Define the SQL statement to create a new database\n",
        "    create_db_query = sql.SQL(\"CREATE DATABASE {}\").format(sql.Identifier(new_dbname))\n",
        "\n",
        "    # Execute the SQL statement\n",
        "    cursor.execute(create_db_query)\n",
        "    print(f\"Database '{new_dbname}' created successfully\")\n",
        "\n",
        "    # Close the cursor and connection\n",
        "    cursor.close()\n",
        "    connection.close()\n",
        "\n",
        "except Exception as error:\n",
        "    print(f\"Error creating the database: {error}\")"
      ]
    },
    {
      "cell_type": "markdown",
      "metadata": {},
      "source": [
        "# Create a Table"
      ]
    },
    {
      "cell_type": "code",
      "execution_count": 3,
      "metadata": {},
      "outputs": [
        {
          "name": "stdout",
          "output_type": "stream",
          "text": [
            "Connection to PostgreSQL DB successful\n",
            "Error creating table: relation \"sst_info\" already exists\n",
            "\n"
          ]
        }
      ],
      "source": [
        "import psycopg2\n",
        "\n",
        "# Database connection parameters\n",
        "host = \"localhost\"\n",
        "port = \"5432\"\n",
        "dbname = \"test_db\"\n",
        "user = \"postgres\"\n",
        "password = \"password\"\n",
        "\n",
        "try:\n",
        "    # Connect to the PostgreSQL database\n",
        "    connection = psycopg2.connect(\n",
        "        host=host,\n",
        "        port=port,\n",
        "        dbname=dbname,\n",
        "        user=user,\n",
        "        password=password\n",
        "    )\n",
        "    connection.autocommit = True # Enable autocommit mode\n",
        "    print(\"Connection to PostgreSQL DB successful\")\n",
        "\n",
        "    # Create a cursor object\n",
        "    cursor = connection.cursor()\n",
        "\n",
        "    # Define the SQL statement to create a new table\n",
        "    create_table_query = \"\"\"\n",
        "    CREATE TABLE sst_info (\n",
        "        id SERIAL PRIMARY KEY,\n",
        "        name VARCHAR(50) NOT NULL,\n",
        "        age INT NOT NULL,\n",
        "        department VARCHAR NOT NULL,\n",
        "        password VARCHAR NOT NULL\n",
        "    );\n",
        "    \"\"\"\n",
        "\n",
        "    # Execute the SQL statement\n",
        "    cursor.execute(create_table_query)\n",
        "    print(\"Table created successfully\")\n",
        "\n",
        "    # Close the cursor and connection\n",
        "    cursor.close()\n",
        "    connection.close()\n",
        "\n",
        "except Exception as error:\n",
        "    print(f\"Error creating table: {error}\")"
      ]
    },
    {
      "cell_type": "markdown",
      "metadata": {},
      "source": [
        "# INSERT into Table"
      ]
    },
    {
      "cell_type": "code",
      "execution_count": 5,
      "metadata": {},
      "outputs": [
        {
          "name": "stdout",
          "output_type": "stream",
          "text": [
            "Connection to PostgreSQL DB successful\n",
            "Error inserting data: duplicate key value violates unique constraint \"sst_info_pkey\"\n",
            "DETAIL:  Key (id)=(1) already exists.\n",
            "\n"
          ]
        }
      ],
      "source": [
        "import psycopg2\n",
        "\n",
        "# Database connection parameters\n",
        "host = \"localhost\"\n",
        "port = \"5432\"\n",
        "dbname = \"test_db\"\n",
        "user = \"postgres\"\n",
        "password = \"password\"\n",
        "\n",
        "try:\n",
        "    # Connect to the PostgreSQL database\n",
        "    connection = psycopg2.connect(\n",
        "        host=host,\n",
        "        port=port,\n",
        "        dbname=dbname,\n",
        "        user=user,\n",
        "        password=password\n",
        "    )\n",
        "    connection.autocommit = True # Enable autocommit mode\n",
        "    print(\"Connection to PostgreSQL DB successful\")\n",
        "\n",
        "    # Create a cursor object\n",
        "    cursor = connection.cursor()\n",
        "\n",
        "    # Define the SQL INSERT statement\n",
        "    insert_query = \"\"\"\n",
        "    INSERT INTO sst_info (id, name, age, department, password)\n",
        "    VALUES (%s, %s, %s, %s, %s);\n",
        "    \"\"\"\n",
        "    \n",
        "    # Data to be inserted\n",
        "    data_to_insert = (1, \"Jamel Ojo\", 20, \"Software Engineering\", \"anthelo4\")\n",
        "\n",
        "    # Execute the SQL statement\n",
        "    cursor.execute(insert_query, data_to_insert)\n",
        "    print(\"Data inserted successfully\")\n",
        "\n",
        "    # Close the cursor and connection\n",
        "    cursor.close()\n",
        "    connection.close()\n",
        "\n",
        "except Exception as error:\n",
        "    print(f\"Error inserting data: {error}\")"
      ]
    },
    {
      "cell_type": "markdown",
      "metadata": {},
      "source": [
        "# SELECT from Table"
      ]
    },
    {
      "cell_type": "code",
      "execution_count": 6,
      "metadata": {},
      "outputs": [
        {
          "name": "stdout",
          "output_type": "stream",
          "text": [
            "(1, 'Jamel Ojo', 20, 'Software Engineering', 'anthelo4')\n"
          ]
        }
      ],
      "source": [
        "import psycopg2\n",
        "\n",
        "# Define your database connection parameters\n",
        "db_params = {\n",
        "    'dbname': 'test_db',\n",
        "    'user': 'postgres',\n",
        "    'password': 'password',\n",
        "    'host': 'localhost',\n",
        "    'port': '5432' # Default is '5432'\n",
        "}\n",
        "\n",
        "try:\n",
        "    # Establish a connection to the database\n",
        "    connection = psycopg2.connect(**db_params)\n",
        "\n",
        "    # Create a cursor object\n",
        "    cursor = connection.cursor()\n",
        "\n",
        "    # Define the SQL query\n",
        "    select_query = \"SELECT * FROM sst_info WHERE age < 30\"\n",
        "\n",
        "    # Execute the SQL query\n",
        "    cursor.execute(select_query)\n",
        "\n",
        "    # Fetch all the results\n",
        "    results = cursor.fetchall()\n",
        "\n",
        "    # Print the results\n",
        "    for row in results:\n",
        "        print(row)\n",
        "\n",
        "except Exception as error:\n",
        "    print(f\"Error while connecting to PostgreSQL: {error}\")\n",
        "\n",
        "finally:\n",
        "    # Close the cursor and connection to clean up\n",
        "    if 'cursor' in locals():\n",
        "        cursor.close()\n",
        "    if 'connection' in locals():\n",
        "        connection.close()"
      ]
    }
  ],
  "metadata": {
    "kernelspec": {
      "display_name": "Python 3",
      "language": "python",
      "name": "python3"
    },
    "language_info": {
      "codemirror_mode": {
        "name": "ipython",
        "version": 3
      },
      "file_extension": ".py",
      "mimetype": "text/x-python",
      "name": "python",
      "nbconvert_exporter": "python",
      "pygments_lexer": "ipython3",
      "version": "3.13.2"
    }
  },
  "nbformat": 4,
  "nbformat_minor": 4
}
